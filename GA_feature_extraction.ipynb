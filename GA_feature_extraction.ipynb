{
 "cells": [
  {
   "cell_type": "code",
   "execution_count": 2,
   "metadata": {},
   "outputs": [],
   "source": [
    "import numpy as np\n",
    "import pandas as pd\n",
    "import scipy as sc\n",
    "import scipy.fftpack\n",
    "import pywt\n",
    "import matplotlib.pyplot as plt\n",
    "import cmath\n",
    "%matplotlib inline"
   ]
  },
  {
   "cell_type": "code",
   "execution_count": 3,
   "metadata": {},
   "outputs": [],
   "source": [
    "data_wisdm = pd.read_table(\"../data/WISDM/WISDM_ar_v1.1_raw_cleared.txt\", delimiter=',')\n",
    "data_wisdm.columns = ['id_user', 'activity', 'timestamp', 'x', 'y', 'z']\n"
   ]
  },
  {
   "cell_type": "code",
   "execution_count": 4,
   "metadata": {},
   "outputs": [],
   "source": [
    "df_expert_wisdm = pd.read_csv(\"../data/features/expert_wisdm.csv\")\n",
    "df_ar_wisdm = pd.read_csv(\"../data/features/ar_wisdm.csv\")\n",
    "df_ssa_wisdm = pd.read_csv(\"../data/features/ssa_wisdm.csv\")\n",
    "df_fft_wisdm = pd.read_csv(\"../data/features/fft_wisdm.csv\")\n",
    "df_wvt_wisdm = pd.read_csv(\"../data/features/wvt_wisdm.csv\")\n",
    "df_all_wisdm = pd.read_csv(\"../data/features/all_wisdm.csv\")\n"
   ]
  },
  {
   "cell_type": "code",
   "execution_count": 32,
   "metadata": {},
   "outputs": [],
   "source": [
    "df_all_wisdm = pd.concat([df_expert_wisdm, \n",
    "                          df_ar_wisdm.drop('activity', axis=1),\n",
    "                          df_ssa_wisdm.drop('activity',axis=1), \n",
    "                          df_fft_wisdm.drop('activity', axis=1)], axis = 1, verify_integrity=True)\n",
    "#df_all_wisdm = df_all_wisdm.T.drop_duplicates().T\n"
   ]
  },
  {
   "cell_type": "code",
   "execution_count": 33,
   "metadata": {},
   "outputs": [
    {
     "name": "stdout",
     "output_type": "stream",
     "text": [
      "Expert:  41 \n",
      "AR:  64 \n",
      "SSA:  61 \n",
      "FFT:  121 \n",
      "All: 284\n"
     ]
    }
   ],
   "source": [
    "print('Expert: ', df_expert_wisdm.shape[1], '\\nAR: ', df_ar_wisdm.shape[1],\n",
    "      '\\nSSA: ', df_ssa_wisdm.shape[1], '\\nFFT: ', df_fft_wisdm.shape[1],\n",
    "      '\\nAll:', df_all_wisdm.shape[1])\n"
   ]
  },
  {
   "cell_type": "code",
   "execution_count": null,
   "metadata": {},
   "outputs": [],
   "source": []
  },
  {
   "cell_type": "code",
   "execution_count": 35,
   "metadata": {
    "scrolled": false
   },
   "outputs": [],
   "source": [
    "import numpy\n",
    "import GA\n",
    "import pickle\n",
    "import matplotlib.pyplot"
   ]
  },
  {
   "cell_type": "code",
   "execution_count": 38,
   "metadata": {},
   "outputs": [
    {
     "data": {
      "text/plain": [
       "(4321, 229)"
      ]
     },
     "execution_count": 38,
     "metadata": {},
     "output_type": "execute_result"
    }
   ],
   "source": [
    "data_inputs.shape"
   ]
  },
  {
   "cell_type": "code",
   "execution_count": 41,
   "metadata": {},
   "outputs": [
    {
     "name": "stdout",
     "output_type": "stream",
     "text": [
      "Number of training samples:  2160\n",
      "Number of test samples:  2161\n",
      "(220, 40)\n"
     ]
    }
   ],
   "source": [
    "data_inputs = df_expert_wisdm.drop('activity', axis=1).values\n",
    "data_outputs = df_expert_wisdm['activity'].values\n",
    "\n",
    "num_samples = data_inputs.shape[0]\n",
    "num_feature_elements = data_inputs.shape[1]\n",
    "train_indices = numpy.arange(1, num_samples, 2)\n",
    "test_indices = numpy.arange(0, num_samples, 2)\n",
    "print(\"Number of training samples: \", train_indices.shape[0])\n",
    "print(\"Number of test samples: \", test_indices.shape[0])\n",
    "\n",
    "\"\"\"\n",
    "Genetic algorithm parameters:\n",
    "    Population size\n",
    "    Mating pool size\n",
    "    Number of mutations\n",
    "\"\"\"\n",
    "\n",
    "sol_per_pop = 220 # Population size.\n",
    "num_parents_mating = 100 # Number of parents inside the mating pool.\n",
    "num_mutations = 5 # Number of elements to mutate.\n",
    "# Defining the population shape.\n",
    "pop_shape = (sol_per_pop, num_feature_elements)\n",
    " \n",
    "# Creating the initial population.\n",
    "new_population = numpy.random.randint(low=0, high=2, size=pop_shape)\n",
    "print(new_population.shape)\n",
    " \n",
    "best_outputs = []\n",
    "num_generations = 5"
   ]
  },
  {
   "cell_type": "code",
   "execution_count": 42,
   "metadata": {
    "scrolled": true
   },
   "outputs": [
    {
     "name": "stdout",
     "output_type": "stream",
     "text": [
      "Generation :  0\n",
      "Best result :  0.8616381304951412\n",
      "Generation :  1\n",
      "Best result :  0.8616381304951412\n",
      "Generation :  2\n",
      "Best result :  0.8616381304951412\n",
      "Generation :  3\n",
      "Best result :  0.8653401203146691\n",
      "Generation :  4\n",
      "Best result :  0.8662656177695511\n"
     ]
    }
   ],
   "source": [
    "for generation in range(num_generations):\n",
    "    print(\"Generation : \", generation)\n",
    "    # Measuring the fitness of each chromosome in the population.\n",
    "    fitness = GA.cal_pop_fitness(new_population, data_inputs, data_outputs, train_indices, test_indices)\n",
    "\n",
    "    best_outputs.append(numpy.max(fitness))\n",
    "    # The best result in the current iteration.\n",
    "    print(\"Best result : \", best_outputs[-1])\n",
    "\n",
    "    # Selecting the best parents in the population for mating.\n",
    "    parents = GA.select_mating_pool(new_population, fitness, num_parents_mating)\n",
    "\n",
    "    # Generating next generation using crossover.\n",
    "    offspring_crossover = GA.crossover(parents, offspring_size=(pop_shape[0]-parents.shape[0], num_feature_elements))\n",
    "\n",
    "    # Adding some variations to the offspring using mutation.\n",
    "    offspring_mutation = GA.mutation(offspring_crossover, num_mutations=num_mutations)\n",
    "\n",
    "    # Creating the new population based on the parents and offspring.\n",
    "    new_population[0:parents.shape[0], :] = parents\n",
    "    new_population[parents.shape[0]:, :] = offspring_mutation"
   ]
  },
  {
   "cell_type": "code",
   "execution_count": 43,
   "metadata": {},
   "outputs": [
    {
     "name": "stdout",
     "output_type": "stream",
     "text": [
      "best_match_idx :  0\n",
      "best_solution :  [1 1 1 0 1 1 1 1 1 0 0 0 1 0 1 0 0 0 0 1 0 0 0 0 0 0 1 0 0 1 0 0 0 0 0 0 1\n",
      " 1 1 0]\n",
      "Selected indices :  [ 0  1  2  4  5  6  7  8 12 14 19 26 29 36 37 38]\n",
      "Number of selected elements :  16\n",
      "Best solution fitness :  0.8662656177695511\n"
     ]
    },
    {
     "data": {
      "image/png": "[encoded data removed]",
      "text/plain": [
       "<Figure size 432x288 with 1 Axes>"
      ]
     },
     "metadata": {
      "needs_background": "light"
     },
     "output_type": "display_data"
    }
   ],
   "source": [
    "fitness = GA.cal_pop_fitness(new_population, data_inputs, data_outputs, train_indices, test_indices)\n",
    "\n",
    "# Then return the index of that solution corresponding to the best fitness.\n",
    "best_match_idx = numpy.where(fitness == numpy.max(fitness))[0]\n",
    "best_match_idx = best_match_idx[0]\n",
    "\n",
    "best_solution = new_population[best_match_idx, :]\n",
    "best_solution_indices = numpy.where(best_solution == 1)[0]\n",
    "best_solution_num_elements = best_solution_indices.shape[0]\n",
    "best_solution_fitness = fitness[best_match_idx]\n",
    "\n",
    "print(\"best_match_idx : \", best_match_idx)\n",
    "print(\"best_solution : \", best_solution)\n",
    "print(\"Selected indices : \", best_solution_indices)\n",
    "print(\"Number of selected elements : \", best_solution_num_elements)\n",
    "print(\"Best solution fitness : \", best_solution_fitness)\n",
    "\n",
    "matplotlib.pyplot.plot(best_outputs)\n",
    "matplotlib.pyplot.xlabel(\"Iteration\")\n",
    "matplotlib.pyplot.ylabel(\"Fitness\")\n",
    "matplotlib.pyplot.show()"
   ]
  },
  {
   "cell_type": "code",
   "execution_count": null,
   "metadata": {},
   "outputs": [],
   "source": []
  },
  {
   "cell_type": "code",
   "execution_count": null,
   "metadata": {},
   "outputs": [],
   "source": []
  }
 ],
 "metadata": {
  "kernelspec": {
   "display_name": "Python 3",
   "language": "python",
   "name": "python3"
  },
  "language_info": {
   "codemirror_mode": {
    "name": "ipython",
    "version": 3
   },
   "file_extension": ".py",
   "mimetype": "text/x-python",
   "name": "python",
   "nbconvert_exporter": "python",
   "pygments_lexer": "ipython3",
   "version": "3.6.7"
  }
 },
 "nbformat": 4,
 "nbformat_minor": 2
}
